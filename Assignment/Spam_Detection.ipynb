{
 "cells": [
  {
   "cell_type": "markdown",
   "metadata": {},
   "source": [
    "<a id='top'></a>\n",
    "\n",
    "### Assignment: Spam Detection\n",
    "\n",
    "- <a href='#preprocessingbagofwords'>Preprocessing for Bag Of Words</a>\n",
    "\n",
    "- <a href='#featureengineering'>Feature Engineering</a>\n",
    "\n",
    "- <a href='#dectreevsrforest'>Decision Tree vs Random Forest</a>\n",
    "\n",
    "- <a href='#preprocessingtfidf'>Preprocessing for Tfidf</a>\n",
    "\n",
    "- <a href='#classimbalance'>Class Imbalance</a>\n",
    "\n",
    "- <a href='#smote'>SMOTE</a>\n",
    "\n",
    "- <a href='#optimization'>Optimization</a>\n",
    "\n",
    "- <a href='#references'>References</a>"
   ]
  },
  {
   "cell_type": "code",
   "execution_count": 1,
   "metadata": {},
   "outputs": [],
   "source": [
    "import pandas as pd"
   ]
  },
  {
   "cell_type": "code",
   "execution_count": 2,
   "metadata": {},
   "outputs": [
    {
     "data": {
      "text/html": [
       "<div>\n",
       "<style scoped>\n",
       "    .dataframe tbody tr th:only-of-type {\n",
       "        vertical-align: middle;\n",
       "    }\n",
       "\n",
       "    .dataframe tbody tr th {\n",
       "        vertical-align: top;\n",
       "    }\n",
       "\n",
       "    .dataframe thead th {\n",
       "        text-align: right;\n",
       "    }\n",
       "</style>\n",
       "<table border=\"1\" class=\"dataframe\">\n",
       "  <thead>\n",
       "    <tr style=\"text-align: right;\">\n",
       "      <th></th>\n",
       "      <th>0</th>\n",
       "      <th>1</th>\n",
       "    </tr>\n",
       "  </thead>\n",
       "  <tbody>\n",
       "    <tr>\n",
       "      <th>0</th>\n",
       "      <td>good</td>\n",
       "      <td>Go until jurong point, crazy.. Available only ...</td>\n",
       "    </tr>\n",
       "    <tr>\n",
       "      <th>1</th>\n",
       "      <td>good</td>\n",
       "      <td>Ok lar... Joking wif u oni...</td>\n",
       "    </tr>\n",
       "    <tr>\n",
       "      <th>2</th>\n",
       "      <td>spam</td>\n",
       "      <td>Free entry in 2 a wkly comp to win FA Cup fina...</td>\n",
       "    </tr>\n",
       "    <tr>\n",
       "      <th>3</th>\n",
       "      <td>good</td>\n",
       "      <td>U dun say so early hor... U c already then say...</td>\n",
       "    </tr>\n",
       "    <tr>\n",
       "      <th>4</th>\n",
       "      <td>good</td>\n",
       "      <td>Nah I don't think he goes to usf, he lives aro...</td>\n",
       "    </tr>\n",
       "  </tbody>\n",
       "</table>\n",
       "</div>"
      ],
      "text/plain": [
       "      0                                                  1\n",
       "0  good  Go until jurong point, crazy.. Available only ...\n",
       "1  good                      Ok lar... Joking wif u oni...\n",
       "2  spam  Free entry in 2 a wkly comp to win FA Cup fina...\n",
       "3  good  U dun say so early hor... U c already then say...\n",
       "4  good  Nah I don't think he goes to usf, he lives aro..."
      ]
     },
     "execution_count": 2,
     "metadata": {},
     "output_type": "execute_result"
    }
   ],
   "source": [
    "# Read the dataset as per the format\n",
    "# response label <tab> sms as string\n",
    "smsData = pd.read_table('smsdata.txt', sep = \"\\t\", header = None)\n",
    "smsData.head()"
   ]
  },
  {
   "cell_type": "code",
   "execution_count": 3,
   "metadata": {},
   "outputs": [
    {
     "data": {
      "text/html": [
       "<div>\n",
       "<style scoped>\n",
       "    .dataframe tbody tr th:only-of-type {\n",
       "        vertical-align: middle;\n",
       "    }\n",
       "\n",
       "    .dataframe tbody tr th {\n",
       "        vertical-align: top;\n",
       "    }\n",
       "\n",
       "    .dataframe thead th {\n",
       "        text-align: right;\n",
       "    }\n",
       "</style>\n",
       "<table border=\"1\" class=\"dataframe\">\n",
       "  <thead>\n",
       "    <tr style=\"text-align: right;\">\n",
       "      <th></th>\n",
       "      <th>label</th>\n",
       "      <th>text</th>\n",
       "    </tr>\n",
       "  </thead>\n",
       "  <tbody>\n",
       "    <tr>\n",
       "      <th>0</th>\n",
       "      <td>good</td>\n",
       "      <td>Go until jurong point, crazy.. Available only ...</td>\n",
       "    </tr>\n",
       "    <tr>\n",
       "      <th>1</th>\n",
       "      <td>good</td>\n",
       "      <td>Ok lar... Joking wif u oni...</td>\n",
       "    </tr>\n",
       "    <tr>\n",
       "      <th>2</th>\n",
       "      <td>spam</td>\n",
       "      <td>Free entry in 2 a wkly comp to win FA Cup fina...</td>\n",
       "    </tr>\n",
       "    <tr>\n",
       "      <th>3</th>\n",
       "      <td>good</td>\n",
       "      <td>U dun say so early hor... U c already then say...</td>\n",
       "    </tr>\n",
       "    <tr>\n",
       "      <th>4</th>\n",
       "      <td>good</td>\n",
       "      <td>Nah I don't think he goes to usf, he lives aro...</td>\n",
       "    </tr>\n",
       "  </tbody>\n",
       "</table>\n",
       "</div>"
      ],
      "text/plain": [
       "  label                                               text\n",
       "0  good  Go until jurong point, crazy.. Available only ...\n",
       "1  good                      Ok lar... Joking wif u oni...\n",
       "2  spam  Free entry in 2 a wkly comp to win FA Cup fina...\n",
       "3  good  U dun say so early hor... U c already then say...\n",
       "4  good  Nah I don't think he goes to usf, he lives aro..."
      ]
     },
     "execution_count": 3,
     "metadata": {},
     "output_type": "execute_result"
    }
   ],
   "source": [
    "# Fix the headers / column labels\n",
    "smsData.columns = [\"label\", \"text\"]\n",
    "smsData.head()"
   ]
  },
  {
   "cell_type": "code",
   "execution_count": 4,
   "metadata": {},
   "outputs": [
    {
     "name": "stdout",
     "output_type": "stream",
     "text": [
      "<class 'pandas.core.frame.DataFrame'>\n",
      "RangeIndex: 5572 entries, 0 to 5571\n",
      "Data columns (total 2 columns):\n",
      "label    5572 non-null object\n",
      "text     5572 non-null object\n",
      "dtypes: object(2)\n",
      "memory usage: 87.2+ KB\n"
     ]
    }
   ],
   "source": [
    "# Basic information about the data\n",
    "smsData.info()"
   ]
  },
  {
   "cell_type": "markdown",
   "metadata": {},
   "source": [
    "Peak at some of the `spam` and `good` sms"
   ]
  },
  {
   "cell_type": "code",
   "execution_count": 5,
   "metadata": {},
   "outputs": [
    {
     "data": {
      "text/html": [
       "<div>\n",
       "<style scoped>\n",
       "    .dataframe tbody tr th:only-of-type {\n",
       "        vertical-align: middle;\n",
       "    }\n",
       "\n",
       "    .dataframe tbody tr th {\n",
       "        vertical-align: top;\n",
       "    }\n",
       "\n",
       "    .dataframe thead th {\n",
       "        text-align: right;\n",
       "    }\n",
       "</style>\n",
       "<table border=\"1\" class=\"dataframe\">\n",
       "  <thead>\n",
       "    <tr style=\"text-align: right;\">\n",
       "      <th></th>\n",
       "      <th>label</th>\n",
       "      <th>text</th>\n",
       "    </tr>\n",
       "  </thead>\n",
       "  <tbody>\n",
       "    <tr>\n",
       "      <th>2</th>\n",
       "      <td>spam</td>\n",
       "      <td>Free entry in 2 a wkly comp to win FA Cup fina...</td>\n",
       "    </tr>\n",
       "    <tr>\n",
       "      <th>5</th>\n",
       "      <td>spam</td>\n",
       "      <td>FreeMsg Hey there darling it's been 3 week's n...</td>\n",
       "    </tr>\n",
       "    <tr>\n",
       "      <th>8</th>\n",
       "      <td>spam</td>\n",
       "      <td>WINNER!! As a valued network customer you have...</td>\n",
       "    </tr>\n",
       "    <tr>\n",
       "      <th>9</th>\n",
       "      <td>spam</td>\n",
       "      <td>Had your mobile 11 months or more? U R entitle...</td>\n",
       "    </tr>\n",
       "    <tr>\n",
       "      <th>11</th>\n",
       "      <td>spam</td>\n",
       "      <td>SIX chances to win CASH! From 100 to 20,000 po...</td>\n",
       "    </tr>\n",
       "  </tbody>\n",
       "</table>\n",
       "</div>"
      ],
      "text/plain": [
       "   label                                               text\n",
       "2   spam  Free entry in 2 a wkly comp to win FA Cup fina...\n",
       "5   spam  FreeMsg Hey there darling it's been 3 week's n...\n",
       "8   spam  WINNER!! As a valued network customer you have...\n",
       "9   spam  Had your mobile 11 months or more? U R entitle...\n",
       "11  spam  SIX chances to win CASH! From 100 to 20,000 po..."
      ]
     },
     "execution_count": 5,
     "metadata": {},
     "output_type": "execute_result"
    }
   ],
   "source": [
    "condition = smsData['label'] == 'spam'\n",
    "smsData[condition].head()"
   ]
  },
  {
   "cell_type": "code",
   "execution_count": 6,
   "metadata": {},
   "outputs": [
    {
     "data": {
      "text/html": [
       "<div>\n",
       "<style scoped>\n",
       "    .dataframe tbody tr th:only-of-type {\n",
       "        vertical-align: middle;\n",
       "    }\n",
       "\n",
       "    .dataframe tbody tr th {\n",
       "        vertical-align: top;\n",
       "    }\n",
       "\n",
       "    .dataframe thead th {\n",
       "        text-align: right;\n",
       "    }\n",
       "</style>\n",
       "<table border=\"1\" class=\"dataframe\">\n",
       "  <thead>\n",
       "    <tr style=\"text-align: right;\">\n",
       "      <th></th>\n",
       "      <th>label</th>\n",
       "      <th>text</th>\n",
       "    </tr>\n",
       "  </thead>\n",
       "  <tbody>\n",
       "    <tr>\n",
       "      <th>0</th>\n",
       "      <td>good</td>\n",
       "      <td>Go until jurong point, crazy.. Available only ...</td>\n",
       "    </tr>\n",
       "    <tr>\n",
       "      <th>1</th>\n",
       "      <td>good</td>\n",
       "      <td>Ok lar... Joking wif u oni...</td>\n",
       "    </tr>\n",
       "    <tr>\n",
       "      <th>3</th>\n",
       "      <td>good</td>\n",
       "      <td>U dun say so early hor... U c already then say...</td>\n",
       "    </tr>\n",
       "    <tr>\n",
       "      <th>4</th>\n",
       "      <td>good</td>\n",
       "      <td>Nah I don't think he goes to usf, he lives aro...</td>\n",
       "    </tr>\n",
       "    <tr>\n",
       "      <th>6</th>\n",
       "      <td>good</td>\n",
       "      <td>Even my brother is not like to speak with me. ...</td>\n",
       "    </tr>\n",
       "  </tbody>\n",
       "</table>\n",
       "</div>"
      ],
      "text/plain": [
       "  label                                               text\n",
       "0  good  Go until jurong point, crazy.. Available only ...\n",
       "1  good                      Ok lar... Joking wif u oni...\n",
       "3  good  U dun say so early hor... U c already then say...\n",
       "4  good  Nah I don't think he goes to usf, he lives aro...\n",
       "6  good  Even my brother is not like to speak with me. ..."
      ]
     },
     "execution_count": 6,
     "metadata": {},
     "output_type": "execute_result"
    }
   ],
   "source": [
    "smsData[~condition].head()"
   ]
  },
  {
   "cell_type": "markdown",
   "metadata": {},
   "source": [
    "<a id='preprocessingbagofwords'></a>\n",
    "### Preprocessing for Bag Of Words"
   ]
  },
  {
   "cell_type": "markdown",
   "metadata": {},
   "source": [
    "- Clean data by removing punctuation, stopwords, and reducing words to root form with lemmatization and stemming\n",
    "- Feature engineer `num_digits`, `num_words`, `num_letters` for later\n",
    "- Apply `CountVectorizer()` to count number of occurences of word in each sms\n",
    "- result is now a sparse array with `rows == samples`, `columns = word or phrase up to 5 words long`\n",
    "\n",
    "According to [documentation](https://scikit-learn.org/stable/modules/generated/sklearn.feature_extraction.text.CountVectorizer.html) for `CountVectorizer()`,\n",
    "\n",
    "`CountVectorizer`: Convert a collection of text documents to a matrix of token counts\n",
    "\n",
    "<a href='#top'>Back to top</a>"
   ]
  },
  {
   "cell_type": "code",
   "execution_count": 7,
   "metadata": {},
   "outputs": [],
   "source": [
    "from sklearn.feature_extraction.text import CountVectorizer\n",
    "import nltk\n",
    "import re\n",
    "\n",
    "def preprocess(text):\n",
    "    # get digits\n",
    "    digits = re.sub(r'[^\\d]', '', text, re.I|re.A)\n",
    "    # lower case and remove special characters\\whitespaces\n",
    "    # re.I ignore cases, re.A ASCII onl matching\n",
    "    text = re.sub(r'[^a-zA-Z\\s]', '', text, re.I|re.A)\n",
    "    text = text.lower()\n",
    "    text = text.strip()\n",
    "    \n",
    "    tokenizer = nltk.WordPunctTokenizer()\n",
    "    lemmatizer = nltk.stem.WordNetLemmatizer()\n",
    "    stemmer = nltk.stem.PorterStemmer()\n",
    "    stop_words = nltk.corpus.stopwords.words('english')\n",
    "\n",
    "    tokens = tokenizer.tokenize(text)\n",
    "    # filter stopwords out of text\n",
    "    filtered_tokens = [token for token in tokens if token not in stop_words]\n",
    "    # re-create text from filtered tokens\n",
    "    text = ' '.join(filtered_tokens)\n",
    "    # reduce each word to root form\n",
    "    # for example, running and ran becomes run\n",
    "    lemmatized_text = lemmatizer.lemmatize(text, pos = 'v')\n",
    "    stemmed_text = stemmer.stem(lemmatized_text)\n",
    "    # 3 extra features\n",
    "    num_words = len(filtered_tokens)\n",
    "    num_letters = len(text)\n",
    "    num_digits = len(digits)\n",
    "    \n",
    "    return stemmed_text, num_words, num_letters, num_digits"
   ]
  },
  {
   "cell_type": "code",
   "execution_count": 8,
   "metadata": {},
   "outputs": [],
   "source": [
    "import numpy as np\n",
    "# vectorize allows for vector input into function\n",
    "v_preprocess = np.vectorize(preprocess)\n",
    "\n",
    "cleanData, num_words, num_letters, num_digits = v_preprocess(smsData['text'])\n",
    "\n",
    "# apply CountVectorizer, counting each word and phrase up to 5 words long\n",
    "cv = CountVectorizer(min_df=0., max_df=1., analyzer = 'word', ngram_range = (1, 5))\n",
    "cv_matrix = cv.fit_transform(cleanData)\n",
    "cv_matrix = cv_matrix.toarray()\n",
    "\n",
    "# get all unique words in the corpus\n",
    "vocab = cv.get_feature_names()"
   ]
  },
  {
   "cell_type": "markdown",
   "metadata": {},
   "source": [
    "<a id='featureengineering'></a>\n",
    "### Feature Engineering"
   ]
  },
  {
   "cell_type": "markdown",
   "metadata": {},
   "source": [
    "Here `num_words`, `num_letters`, `num_digits` and `num_pound` are compared with `label` to see if they should be used as features\n",
    "\n",
    "<a href='#top'>Back to top</a>"
   ]
  },
  {
   "cell_type": "code",
   "execution_count": 9,
   "metadata": {
    "scrolled": false
   },
   "outputs": [
    {
     "data": {
      "text/plain": [
       "<matplotlib.axes._subplots.AxesSubplot at 0x1a8542aaeb8>"
      ]
     },
     "execution_count": 9,
     "metadata": {},
     "output_type": "execute_result"
    },
    {
     "data": {
      "image/png": "[encoded data removed]",
      "text/plain": [
       "<Figure size 720x1152 with 4 Axes>"
      ]
     },
     "metadata": {},
     "output_type": "display_data"
    }
   ],
   "source": [
    "import matplotlib.pyplot as plt\n",
    "import seaborn as sb\n",
    "sb.set()\n",
    "\n",
    "smsData['num_words'] = num_words\n",
    "smsData['num_letters'] = num_letters\n",
    "smsData['num_digits'] = num_digits\n",
    "smsData['num_pound'] = smsData['text'].apply(lambda x: len([x for y in str(x) if y=='!']))\n",
    "byLetters = smsData.sort_values(by = 'num_letters', ascending = False)\n",
    "byWords = smsData.sort_values(by = 'num_letters', ascending = False)\n",
    "byDigits = smsData.sort_values(by = 'num_digits', ascending = False)\n",
    "byPound = smsData.sort_values(by = 'num_pound', ascending = False)\n",
    "\n",
    "f, axes = plt.subplots(4, 1, figsize = (10, 16))\n",
    "\n",
    "sb.violinplot(x = 'num_letters', y = 'label', data = byLetters, ax = axes[0])\n",
    "sb.violinplot(x = 'num_words', y = 'label', data = byWords, ax = axes[1])\n",
    "sb.violinplot(x = 'num_digits', y = 'label', data = byDigits, ax = axes[2])\n",
    "sb.violinplot(x = 'num_pound', y = 'label', data = byPound, ax = axes[3])"
   ]
  },
  {
   "cell_type": "markdown",
   "metadata": {},
   "source": [
    "Above shows higher `num_letters` and `num_words` seem to indicate `spam` sms"
   ]
  },
  {
   "cell_type": "code",
   "execution_count": 10,
   "metadata": {},
   "outputs": [
    {
     "data": {
      "text/html": [
       "<div>\n",
       "<style scoped>\n",
       "    .dataframe tbody tr th:only-of-type {\n",
       "        vertical-align: middle;\n",
       "    }\n",
       "\n",
       "    .dataframe tbody tr th {\n",
       "        vertical-align: top;\n",
       "    }\n",
       "\n",
       "    .dataframe thead th {\n",
       "        text-align: right;\n",
       "    }\n",
       "</style>\n",
       "<table border=\"1\" class=\"dataframe\">\n",
       "  <thead>\n",
       "    <tr style=\"text-align: right;\">\n",
       "      <th></th>\n",
       "      <th>aa</th>\n",
       "      <th>aa exhaust</th>\n",
       "      <th>aa exhaust hang</th>\n",
       "      <th>aah</th>\n",
       "      <th>aah bless</th>\n",
       "      <th>aah bless hows</th>\n",
       "      <th>aah bless hows arm</th>\n",
       "      <th>aah cuddle</th>\n",
       "      <th>aah cuddle would</th>\n",
       "      <th>aah cuddle would lush</th>\n",
       "      <th>...</th>\n",
       "      <th>zs subscription pw</th>\n",
       "      <th>zyada</th>\n",
       "      <th>zyada kisi</th>\n",
       "      <th>zyada kisi ko</th>\n",
       "      <th>zyada kisi ko kuch</th>\n",
       "      <th>zyada kisi ko kuch nahi</th>\n",
       "      <th>num_words</th>\n",
       "      <th>num_letters</th>\n",
       "      <th>num_digits</th>\n",
       "      <th>num_pound</th>\n",
       "    </tr>\n",
       "  </thead>\n",
       "  <tbody>\n",
       "    <tr>\n",
       "      <th>0</th>\n",
       "      <td>0</td>\n",
       "      <td>0</td>\n",
       "      <td>0</td>\n",
       "      <td>0</td>\n",
       "      <td>0</td>\n",
       "      <td>0</td>\n",
       "      <td>0</td>\n",
       "      <td>0</td>\n",
       "      <td>0</td>\n",
       "      <td>0</td>\n",
       "      <td>...</td>\n",
       "      <td>0</td>\n",
       "      <td>0</td>\n",
       "      <td>0</td>\n",
       "      <td>0</td>\n",
       "      <td>0</td>\n",
       "      <td>0</td>\n",
       "      <td>16</td>\n",
       "      <td>82</td>\n",
       "      <td>0</td>\n",
       "      <td>0</td>\n",
       "    </tr>\n",
       "    <tr>\n",
       "      <th>1</th>\n",
       "      <td>0</td>\n",
       "      <td>0</td>\n",
       "      <td>0</td>\n",
       "      <td>0</td>\n",
       "      <td>0</td>\n",
       "      <td>0</td>\n",
       "      <td>0</td>\n",
       "      <td>0</td>\n",
       "      <td>0</td>\n",
       "      <td>0</td>\n",
       "      <td>...</td>\n",
       "      <td>0</td>\n",
       "      <td>0</td>\n",
       "      <td>0</td>\n",
       "      <td>0</td>\n",
       "      <td>0</td>\n",
       "      <td>0</td>\n",
       "      <td>6</td>\n",
       "      <td>23</td>\n",
       "      <td>0</td>\n",
       "      <td>0</td>\n",
       "    </tr>\n",
       "    <tr>\n",
       "      <th>2</th>\n",
       "      <td>0</td>\n",
       "      <td>0</td>\n",
       "      <td>0</td>\n",
       "      <td>0</td>\n",
       "      <td>0</td>\n",
       "      <td>0</td>\n",
       "      <td>0</td>\n",
       "      <td>0</td>\n",
       "      <td>0</td>\n",
       "      <td>0</td>\n",
       "      <td>...</td>\n",
       "      <td>0</td>\n",
       "      <td>0</td>\n",
       "      <td>0</td>\n",
       "      <td>0</td>\n",
       "      <td>0</td>\n",
       "      <td>0</td>\n",
       "      <td>20</td>\n",
       "      <td>107</td>\n",
       "      <td>25</td>\n",
       "      <td>0</td>\n",
       "    </tr>\n",
       "    <tr>\n",
       "      <th>3</th>\n",
       "      <td>0</td>\n",
       "      <td>0</td>\n",
       "      <td>0</td>\n",
       "      <td>0</td>\n",
       "      <td>0</td>\n",
       "      <td>0</td>\n",
       "      <td>0</td>\n",
       "      <td>0</td>\n",
       "      <td>0</td>\n",
       "      <td>0</td>\n",
       "      <td>...</td>\n",
       "      <td>0</td>\n",
       "      <td>0</td>\n",
       "      <td>0</td>\n",
       "      <td>0</td>\n",
       "      <td>0</td>\n",
       "      <td>0</td>\n",
       "      <td>9</td>\n",
       "      <td>35</td>\n",
       "      <td>0</td>\n",
       "      <td>0</td>\n",
       "    </tr>\n",
       "    <tr>\n",
       "      <th>4</th>\n",
       "      <td>0</td>\n",
       "      <td>0</td>\n",
       "      <td>0</td>\n",
       "      <td>0</td>\n",
       "      <td>0</td>\n",
       "      <td>0</td>\n",
       "      <td>0</td>\n",
       "      <td>0</td>\n",
       "      <td>0</td>\n",
       "      <td>0</td>\n",
       "      <td>...</td>\n",
       "      <td>0</td>\n",
       "      <td>0</td>\n",
       "      <td>0</td>\n",
       "      <td>0</td>\n",
       "      <td>0</td>\n",
       "      <td>0</td>\n",
       "      <td>8</td>\n",
       "      <td>43</td>\n",
       "      <td>0</td>\n",
       "      <td>0</td>\n",
       "    </tr>\n",
       "  </tbody>\n",
       "</table>\n",
       "<p>5 rows × 118968 columns</p>\n",
       "</div>"
      ],
      "text/plain": [
       "   aa  aa exhaust  aa exhaust hang  aah  aah bless  aah bless hows  \\\n",
       "0   0           0                0    0          0               0   \n",
       "1   0           0                0    0          0               0   \n",
       "2   0           0                0    0          0               0   \n",
       "3   0           0                0    0          0               0   \n",
       "4   0           0                0    0          0               0   \n",
       "\n",
       "   aah bless hows arm  aah cuddle  aah cuddle would  aah cuddle would lush  \\\n",
       "0                   0           0                 0                      0   \n",
       "1                   0           0                 0                      0   \n",
       "2                   0           0                 0                      0   \n",
       "3                   0           0                 0                      0   \n",
       "4                   0           0                 0                      0   \n",
       "\n",
       "   ...  zs subscription pw  zyada  zyada kisi  zyada kisi ko  \\\n",
       "0  ...                   0      0           0              0   \n",
       "1  ...                   0      0           0              0   \n",
       "2  ...                   0      0           0              0   \n",
       "3  ...                   0      0           0              0   \n",
       "4  ...                   0      0           0              0   \n",
       "\n",
       "   zyada kisi ko kuch  zyada kisi ko kuch nahi  num_words  num_letters  \\\n",
       "0                   0                        0         16           82   \n",
       "1                   0                        0          6           23   \n",
       "2                   0                        0         20          107   \n",
       "3                   0                        0          9           35   \n",
       "4                   0                        0          8           43   \n",
       "\n",
       "   num_digits  num_pound  \n",
       "0           0          0  \n",
       "1           0          0  \n",
       "2          25          0  \n",
       "3           0          0  \n",
       "4           0          0  \n",
       "\n",
       "[5 rows x 118968 columns]"
      ]
     },
     "execution_count": 10,
     "metadata": {},
     "output_type": "execute_result"
    }
   ],
   "source": [
    "# peak at current features\n",
    "features = pd.DataFrame(cv_matrix, columns=vocab)\n",
    "features['num_words'] = num_words\n",
    "features['num_letters'] = num_letters\n",
    "features['num_digits'] = num_digits\n",
    "features['num_pound'] = smsData['num_pound']\n",
    "features.head()"
   ]
  },
  {
   "cell_type": "markdown",
   "metadata": {},
   "source": [
    "As seen above, there are way too many features as there is a feature for every word, and phrases up to 5 words long. \n",
    "\n",
    "Attempt to reduce words by:\n",
    "\n",
    "- Ranking words based on `mean` occurence per sms\n",
    "- Take top `N` most frequently occurring words say `N = 40`\n",
    "\n",
    "This is to remove possible typing errors like `juronh` instead of `jurong` and words that rarely occur as they are likely to not have an effect on `spam` and `good` messages."
   ]
  },
  {
   "cell_type": "code",
   "execution_count": 11,
   "metadata": {},
   "outputs": [
    {
     "data": {
      "text/html": [
       "<div>\n",
       "<style scoped>\n",
       "    .dataframe tbody tr th:only-of-type {\n",
       "        vertical-align: middle;\n",
       "    }\n",
       "\n",
       "    .dataframe tbody tr th {\n",
       "        vertical-align: top;\n",
       "    }\n",
       "\n",
       "    .dataframe thead th {\n",
       "        text-align: right;\n",
       "    }\n",
       "</style>\n",
       "<table border=\"1\" class=\"dataframe\">\n",
       "  <thead>\n",
       "    <tr style=\"text-align: right;\">\n",
       "      <th></th>\n",
       "      <th>mean_frequency</th>\n",
       "    </tr>\n",
       "  </thead>\n",
       "  <tbody>\n",
       "    <tr>\n",
       "      <th>num_letters</th>\n",
       "      <td>51.156676</td>\n",
       "    </tr>\n",
       "    <tr>\n",
       "      <th>num_words</th>\n",
       "      <td>8.935930</td>\n",
       "    </tr>\n",
       "    <tr>\n",
       "      <th>num_digits</th>\n",
       "      <td>3.649318</td>\n",
       "    </tr>\n",
       "    <tr>\n",
       "      <th>num_pound</th>\n",
       "      <td>0.250718</td>\n",
       "    </tr>\n",
       "    <tr>\n",
       "      <th>call</th>\n",
       "      <td>0.090093</td>\n",
       "    </tr>\n",
       "  </tbody>\n",
       "</table>\n",
       "</div>"
      ],
      "text/plain": [
       "             mean_frequency\n",
       "num_letters       51.156676\n",
       "num_words          8.935930\n",
       "num_digits         3.649318\n",
       "num_pound          0.250718\n",
       "call               0.090093"
      ]
     },
     "execution_count": 11,
     "metadata": {},
     "output_type": "execute_result"
    }
   ],
   "source": [
    "frequentFeatures = pd.DataFrame({'mean_frequency': features.mean(axis = 0)}, index = features.columns)\n",
    "frequentFeatures = frequentFeatures.sort_values(by='mean_frequency', ascending=False)\n",
    "frequentFeatures.head()"
   ]
  },
  {
   "cell_type": "markdown",
   "metadata": {},
   "source": [
    "<a id='dectreevsrforest'></a>\n",
    "### DecisionTree vs RandomForest"
   ]
  },
  {
   "cell_type": "markdown",
   "metadata": {},
   "source": [
    "Here `DecisionTreeClassifier` will be compared to `RandomForestClassifier` based mainly on `PPV` and `NPV` to determine better model.\n",
    "\n",
    "<a href='#top'>Back to top</a>"
   ]
  },
  {
   "cell_type": "code",
   "execution_count": 12,
   "metadata": {},
   "outputs": [],
   "source": [
    "results = {'accuracy': [],\n",
    "           'ravel': [],\n",
    "           'PPV': [],\n",
    "           'NPV': [],\n",
    "           'auroc': [],\n",
    "           'title': []}"
   ]
  },
  {
   "cell_type": "code",
   "execution_count": 13,
   "metadata": {},
   "outputs": [
    {
     "data": {
      "text/html": [
       "<div>\n",
       "<style scoped>\n",
       "    .dataframe tbody tr th:only-of-type {\n",
       "        vertical-align: middle;\n",
       "    }\n",
       "\n",
       "    .dataframe tbody tr th {\n",
       "        vertical-align: top;\n",
       "    }\n",
       "\n",
       "    .dataframe thead th {\n",
       "        text-align: right;\n",
       "    }\n",
       "</style>\n",
       "<table border=\"1\" class=\"dataframe\">\n",
       "  <thead>\n",
       "    <tr style=\"text-align: right;\">\n",
       "      <th></th>\n",
       "      <th>num_letters</th>\n",
       "      <th>num_words</th>\n",
       "      <th>num_digits</th>\n",
       "      <th>num_pound</th>\n",
       "      <th>call</th>\n",
       "      <th>im</th>\n",
       "      <th>get</th>\n",
       "      <th>ur</th>\n",
       "      <th>dont</th>\n",
       "      <th>go</th>\n",
       "      <th>...</th>\n",
       "      <th>stop</th>\n",
       "      <th>back</th>\n",
       "      <th>sorry</th>\n",
       "      <th>see</th>\n",
       "      <th>still</th>\n",
       "      <th>today</th>\n",
       "      <th>mobile</th>\n",
       "      <th>think</th>\n",
       "      <th>new</th>\n",
       "      <th>hi</th>\n",
       "    </tr>\n",
       "  </thead>\n",
       "  <tbody>\n",
       "    <tr>\n",
       "      <th>0</th>\n",
       "      <td>82</td>\n",
       "      <td>16</td>\n",
       "      <td>0</td>\n",
       "      <td>0</td>\n",
       "      <td>0</td>\n",
       "      <td>0</td>\n",
       "      <td>0</td>\n",
       "      <td>0</td>\n",
       "      <td>0</td>\n",
       "      <td>1</td>\n",
       "      <td>...</td>\n",
       "      <td>0</td>\n",
       "      <td>0</td>\n",
       "      <td>0</td>\n",
       "      <td>0</td>\n",
       "      <td>0</td>\n",
       "      <td>0</td>\n",
       "      <td>0</td>\n",
       "      <td>0</td>\n",
       "      <td>0</td>\n",
       "      <td>0</td>\n",
       "    </tr>\n",
       "    <tr>\n",
       "      <th>1</th>\n",
       "      <td>23</td>\n",
       "      <td>6</td>\n",
       "      <td>0</td>\n",
       "      <td>0</td>\n",
       "      <td>0</td>\n",
       "      <td>0</td>\n",
       "      <td>0</td>\n",
       "      <td>0</td>\n",
       "      <td>0</td>\n",
       "      <td>0</td>\n",
       "      <td>...</td>\n",
       "      <td>0</td>\n",
       "      <td>0</td>\n",
       "      <td>0</td>\n",
       "      <td>0</td>\n",
       "      <td>0</td>\n",
       "      <td>0</td>\n",
       "      <td>0</td>\n",
       "      <td>0</td>\n",
       "      <td>0</td>\n",
       "      <td>0</td>\n",
       "    </tr>\n",
       "    <tr>\n",
       "      <th>2</th>\n",
       "      <td>107</td>\n",
       "      <td>20</td>\n",
       "      <td>25</td>\n",
       "      <td>0</td>\n",
       "      <td>0</td>\n",
       "      <td>0</td>\n",
       "      <td>0</td>\n",
       "      <td>0</td>\n",
       "      <td>0</td>\n",
       "      <td>0</td>\n",
       "      <td>...</td>\n",
       "      <td>0</td>\n",
       "      <td>0</td>\n",
       "      <td>0</td>\n",
       "      <td>0</td>\n",
       "      <td>0</td>\n",
       "      <td>0</td>\n",
       "      <td>0</td>\n",
       "      <td>0</td>\n",
       "      <td>0</td>\n",
       "      <td>0</td>\n",
       "    </tr>\n",
       "    <tr>\n",
       "      <th>3</th>\n",
       "      <td>35</td>\n",
       "      <td>9</td>\n",
       "      <td>0</td>\n",
       "      <td>0</td>\n",
       "      <td>0</td>\n",
       "      <td>0</td>\n",
       "      <td>0</td>\n",
       "      <td>0</td>\n",
       "      <td>0</td>\n",
       "      <td>0</td>\n",
       "      <td>...</td>\n",
       "      <td>0</td>\n",
       "      <td>0</td>\n",
       "      <td>0</td>\n",
       "      <td>0</td>\n",
       "      <td>0</td>\n",
       "      <td>0</td>\n",
       "      <td>0</td>\n",
       "      <td>0</td>\n",
       "      <td>0</td>\n",
       "      <td>0</td>\n",
       "    </tr>\n",
       "    <tr>\n",
       "      <th>4</th>\n",
       "      <td>43</td>\n",
       "      <td>8</td>\n",
       "      <td>0</td>\n",
       "      <td>0</td>\n",
       "      <td>0</td>\n",
       "      <td>0</td>\n",
       "      <td>0</td>\n",
       "      <td>0</td>\n",
       "      <td>1</td>\n",
       "      <td>0</td>\n",
       "      <td>...</td>\n",
       "      <td>0</td>\n",
       "      <td>0</td>\n",
       "      <td>0</td>\n",
       "      <td>0</td>\n",
       "      <td>0</td>\n",
       "      <td>0</td>\n",
       "      <td>0</td>\n",
       "      <td>1</td>\n",
       "      <td>0</td>\n",
       "      <td>0</td>\n",
       "    </tr>\n",
       "  </tbody>\n",
       "</table>\n",
       "<p>5 rows × 40 columns</p>\n",
       "</div>"
      ],
      "text/plain": [
       "   num_letters  num_words  num_digits  num_pound  call  im  get  ur  dont  go  \\\n",
       "0           82         16           0          0     0   0    0   0     0   1   \n",
       "1           23          6           0          0     0   0    0   0     0   0   \n",
       "2          107         20          25          0     0   0    0   0     0   0   \n",
       "3           35          9           0          0     0   0    0   0     0   0   \n",
       "4           43          8           0          0     0   0    0   0     1   0   \n",
       "\n",
       "   ...  stop  back  sorry  see  still  today  mobile  think  new  hi  \n",
       "0  ...     0     0      0    0      0      0       0      0    0   0  \n",
       "1  ...     0     0      0    0      0      0       0      0    0   0  \n",
       "2  ...     0     0      0    0      0      0       0      0    0   0  \n",
       "3  ...     0     0      0    0      0      0       0      0    0   0  \n",
       "4  ...     0     0      0    0      0      0       0      1    0   0  \n",
       "\n",
       "[5 rows x 40 columns]"
      ]
     },
     "execution_count": 13,
     "metadata": {},
     "output_type": "execute_result"
    }
   ],
   "source": [
    "# take top 40 most frequent words\n",
    "features = features[frequentFeatures.index[:40]]\n",
    "features.head()"
   ]
  },
  {
   "cell_type": "code",
   "execution_count": 14,
   "metadata": {},
   "outputs": [],
   "source": [
    "from scipy.sparse import csr_matrix\n",
    "# convert to sparse matrix for efficient model trainig\n",
    "features = csr_matrix(features.values)\n",
    "response = smsData['label']"
   ]
  },
  {
   "cell_type": "markdown",
   "metadata": {},
   "source": [
    "Establish which model is better"
   ]
  },
  {
   "cell_type": "code",
   "execution_count": 15,
   "metadata": {},
   "outputs": [],
   "source": [
    "from sklearn.model_selection import train_test_split\n",
    "from sklearn.metrics import accuracy_score, confusion_matrix, auc, roc_curve\n",
    "\n",
    "def run_model(features, response, model, results, title):\n",
    "    X_train, X_test, y_train, y_test = train_test_split(features, response, test_size = 0.25, \n",
    "                                                        random_state = 1)\n",
    "    model.fit(X_train, y_train)\n",
    "    y_test_pred = model.predict(X_test)\n",
    "    \n",
    "    results = analyze(y_test, y_test_pred, X_test, model, results, title)\n",
    "    summary = summarize(results)\n",
    "    results['summary'] = summary\n",
    "    return results\n",
    "\n",
    "def analyze(y_true, y_pred, X_test, model, results, title):\n",
    "    cm = confusion_matrix(y_true, y_pred)\n",
    "    sb.heatmap(cm, annot = True, fmt=\".0f\", annot_kws={\"size\": 18}, \n",
    "               xticklabels = ['good', 'spam'], yticklabels = ['good', 'spam'])\n",
    "    fix_heatmap(title)\n",
    "    \n",
    "    tn, fp, fn, tp = cm.ravel()\n",
    "    ppv = np.round(tp / (tp + fp), 3)\n",
    "    npv = np.round(tn / (tn + fn), 3)\n",
    "    \n",
    "    results['accuracy'].append(np.round(accuracy_score(y_true, y_pred), 3))\n",
    "    results['ravel'].append(cm.ravel())\n",
    "    results['PPV'].append(ppv)\n",
    "    results['NPV'].append(npv)\n",
    "\n",
    "    results['title'].append(title)\n",
    "    \n",
    "    area_under_curve = visualize_auroc(y_true, X_test, model, title)\n",
    "    results['auroc'].append(area_under_curve)\n",
    "    \n",
    "    return results\n",
    "\n",
    "def visualize_auroc(y_true, X_test, model, title):\n",
    "    fpr, tpr, thr = roc_curve(y_true, model.predict_proba(X_test)[:,1], pos_label = 'spam')\n",
    "    plt.figure(figsize=(5, 5))\n",
    "    plt.plot(fpr, tpr)\n",
    "    plt.xlabel('False Positive Rate')\n",
    "    plt.ylabel('True Positive Rate')\n",
    "    plt.title(f'ROC for {title}')\n",
    "    auroc = auc(fpr, tpr)\n",
    "    plt.legend([\"AUROC {0:.2f}\".format(auroc)])\n",
    "    plt.show()\n",
    "    return round(auroc, 3)\n",
    "\n",
    "def fix_heatmap(title):\n",
    "    bottom, top = plt.ylim()\n",
    "    bottom += 0.5 \n",
    "    top -= 0.5\n",
    "    plt.ylim(bottom, top)\n",
    "    plt.title(f'Confusion Matrix for {title}')\n",
    "    plt.ylabel('True label')\n",
    "    plt.xlabel('Predicted label')\n",
    "    plt.show()\n",
    "\n",
    "def summarize(results):\n",
    "    return pd.DataFrame(list(zip(results['title'], results['accuracy'], results['ravel'],\n",
    "                                 results['PPV'], results['NPV'], results['auroc'])),\n",
    "                        columns = ['Titles', 'Classif Acc', 'TN, FP, FN, TP', 'PPV', 'NPV', 'AUROC'])"
   ]
  },
  {
   "cell_type": "code",
   "execution_count": 16,
   "metadata": {},
   "outputs": [
    {
     "data": {
      "image/png": "[encoded data removed]",
      "text/plain": [
       "<Figure size 432x288 with 2 Axes>"
      ]
     },
     "metadata": {},
     "output_type": "display_data"
    },
    {
     "data": {
      "image/png": "[encoded data removed]",
      "text/plain": [
       "<Figure size 360x360 with 1 Axes>"
      ]
     },
     "metadata": {},
     "output_type": "display_data"
    },
    {
     "data": {
      "image/png": "[encoded data removed]",
      "text/plain": [
       "<Figure size 432x288 with 2 Axes>"
      ]
     },
     "metadata": {},
     "output_type": "display_data"
    },
    {
     "data": {
      "image/png": "[encoded data removed]",
      "text/plain": [
       "<Figure size 360x360 with 1 Axes>"
      ]
     },
     "metadata": {},
     "output_type": "display_data"
    },
    {
     "data": {
      "text/html": [
       "<div>\n",
       "<style scoped>\n",
       "    .dataframe tbody tr th:only-of-type {\n",
       "        vertical-align: middle;\n",
       "    }\n",
       "\n",
       "    .dataframe tbody tr th {\n",
       "        vertical-align: top;\n",
       "    }\n",
       "\n",
       "    .dataframe thead th {\n",
       "        text-align: right;\n",
       "    }\n",
       "</style>\n",
       "<table border=\"1\" class=\"dataframe\">\n",
       "  <thead>\n",
       "    <tr style=\"text-align: right;\">\n",
       "      <th></th>\n",
       "      <th>Titles</th>\n",
       "      <th>Classif Acc</th>\n",
       "      <th>TN, FP, FN, TP</th>\n",
       "      <th>PPV</th>\n",
       "      <th>NPV</th>\n",
       "      <th>AUROC</th>\n",
       "    </tr>\n",
       "  </thead>\n",
       "  <tbody>\n",
       "    <tr>\n",
       "      <th>0</th>\n",
       "      <td>DecTree_BOW</td>\n",
       "      <td>0.978</td>\n",
       "      <td>[1193, 15, 15, 170]</td>\n",
       "      <td>0.919</td>\n",
       "      <td>0.988</td>\n",
       "      <td>0.953</td>\n",
       "    </tr>\n",
       "    <tr>\n",
       "      <th>1</th>\n",
       "      <td>RForest_BOW</td>\n",
       "      <td>0.986</td>\n",
       "      <td>[1203, 5, 15, 170]</td>\n",
       "      <td>0.971</td>\n",
       "      <td>0.988</td>\n",
       "      <td>0.983</td>\n",
       "    </tr>\n",
       "  </tbody>\n",
       "</table>\n",
       "</div>"
      ],
      "text/plain": [
       "        Titles  Classif Acc       TN, FP, FN, TP    PPV    NPV  AUROC\n",
       "0  DecTree_BOW        0.978  [1193, 15, 15, 170]  0.919  0.988  0.953\n",
       "1  RForest_BOW        0.986   [1203, 5, 15, 170]  0.971  0.988  0.983"
      ]
     },
     "execution_count": 16,
     "metadata": {},
     "output_type": "execute_result"
    }
   ],
   "source": [
    "from sklearn.tree import DecisionTreeClassifier\n",
    "from sklearn.ensemble import RandomForestClassifier\n",
    "\n",
    "results = run_model(features, response, DecisionTreeClassifier(random_state = 1), \n",
    "                    results, 'DecTree_BOW')\n",
    "results = run_model(features, response, RandomForestClassifier(random_state = 1), \n",
    "                    results, 'RForest_BOW')\n",
    "results['summary']"
   ]
  },
  {
   "cell_type": "markdown",
   "metadata": {},
   "source": [
    "`RandomForest` outperforms `DecisionTree` here based on `PPV`. This is now the baseline model to outperform.\n",
    "\n",
    "Intuitively:\n",
    "- `PPV == 1` represents zero `good` sms classified as `spam`\n",
    "- `NPV == 1` represents zero `spam` sms classified as `good`\n",
    "- `AUROC == 1` represents zero misclassifications\n",
    "\n",
    "The aim should be to prioritize maximizing `PPV` over `NPV` although having both == 1 is ideal. In other words, considering email, it is important to have zero `good` emails going into the `spam` folder and having an occassional `spam` email in inbox is forgivable.\n",
    "\n",
    "According to [here](https://www.jamesmaino.com/post/simple-intuitive-explanation-of-roc-and-auc-curves),\n",
    "`AUC`: Rate of true positives and false positives for all threshold values of predicted labels and plot the results.\n",
    "\n",
    "Description | Formula\n",
    "--- | ---\n",
    "sensitivity, recall, hit rate, or true positive rate (TPR) | TPR = $\\frac{TP}{P}$ = $\\frac{TP}{TP+FN}$ = 1-*FNR*\n",
    "specificity, selectivity or true negative rate (TNR) | TNR = $\\frac{TN}{N}$ = $\\frac{TN}{TN+FP}$ = 1-*FPR*\n",
    "precision or positive predictive value (PPV): | PPV = $\\frac{TP}{TP+FP}$ = 1-*FDR*\n",
    "negative predictive value (NPV): | NPV = $\\frac{TN}{TN+FN}$ = 1-*FOR*\n",
    "miss rate or false negative rate (FNR): | FNR = $\\frac{TN}{P}$ = $\\frac{FN}{FN+TP}$ = 1-*TPR*\n",
    "fall-out or false positive rate (FPR): | FPR = $\\frac{FP}{N}$ = $\\frac{FP}{FP+TN}$ = 1-*TNR*\n",
    "false discovery rate (FDR): | FDR = $\\frac{FP}{FP+TP}$ = 1-*PPV*\n",
    "false omission rate (FOR): | FOR = $\\frac{FN}{FN+TN}$ = 1-*NPV*\n",
    "Threat score (TS) or Critical Success Index (CSI): | TS = $\\frac{TP}{TP+FN+FP}$"
   ]
  },
  {
   "cell_type": "markdown",
   "metadata": {},
   "source": [
    "<a id='preprocessingtfidf'></a>\n",
    "### Preprocessing for Tfidf"
   ]
  },
  {
   "cell_type": "markdown",
   "metadata": {},
   "source": [
    "**Term-Frequency times Inverse-Document-Frequency (Tfidf).**\n",
    "\n",
    "Instead of what was done previously, now:\n",
    "\n",
    "- Get ratio of unique word to total words per sms (Term Frequency)\n",
    "- Get ratio of total sms to sms with unique word in it (Inverse-Document-Frequency)\n",
    "- Tfidf = TF * IDF\n",
    "- Larger Tfidf means more importance\n",
    "\n",
    "According to [documentation](https://scikit-learn.org/stable/modules/generated/sklearn.feature_extraction.text.TfidfTransformer.html),\n",
    "\n",
    "The goal of using tf-idf instead of the raw frequencies of occurrence of a token in a given document is to scale down the impact of tokens that occur very frequently in a given corpus and that are hence empirically less informative than features that occur in a small fraction of the training corpus.\n",
    "\n",
    "<a href='#top'>Back to top</a>"
   ]
  },
  {
   "cell_type": "code",
   "execution_count": 17,
   "metadata": {},
   "outputs": [
    {
     "data": {
      "text/html": [
       "<div>\n",
       "<style scoped>\n",
       "    .dataframe tbody tr th:only-of-type {\n",
       "        vertical-align: middle;\n",
       "    }\n",
       "\n",
       "    .dataframe tbody tr th {\n",
       "        vertical-align: top;\n",
       "    }\n",
       "\n",
       "    .dataframe thead th {\n",
       "        text-align: right;\n",
       "    }\n",
       "</style>\n",
       "<table border=\"1\" class=\"dataframe\">\n",
       "  <thead>\n",
       "    <tr style=\"text-align: right;\">\n",
       "      <th></th>\n",
       "      <th>aa</th>\n",
       "      <th>aa exhaust</th>\n",
       "      <th>aa exhaust hang</th>\n",
       "      <th>aah</th>\n",
       "      <th>aah bless</th>\n",
       "      <th>aah bless hows</th>\n",
       "      <th>aah bless hows arm</th>\n",
       "      <th>aah cuddle</th>\n",
       "      <th>aah cuddle would</th>\n",
       "      <th>aah cuddle would lush</th>\n",
       "      <th>...</th>\n",
       "      <th>zs subscription pw</th>\n",
       "      <th>zyada</th>\n",
       "      <th>zyada kisi</th>\n",
       "      <th>zyada kisi ko</th>\n",
       "      <th>zyada kisi ko kuch</th>\n",
       "      <th>zyada kisi ko kuch nahi</th>\n",
       "      <th>num_words</th>\n",
       "      <th>num_letters</th>\n",
       "      <th>num_digits</th>\n",
       "      <th>num_pound</th>\n",
       "    </tr>\n",
       "  </thead>\n",
       "  <tbody>\n",
       "    <tr>\n",
       "      <th>0</th>\n",
       "      <td>0.0</td>\n",
       "      <td>0.0</td>\n",
       "      <td>0.0</td>\n",
       "      <td>0.0</td>\n",
       "      <td>0.0</td>\n",
       "      <td>0.0</td>\n",
       "      <td>0.0</td>\n",
       "      <td>0.0</td>\n",
       "      <td>0.0</td>\n",
       "      <td>0.0</td>\n",
       "      <td>...</td>\n",
       "      <td>0.0</td>\n",
       "      <td>0.0</td>\n",
       "      <td>0.0</td>\n",
       "      <td>0.0</td>\n",
       "      <td>0.0</td>\n",
       "      <td>0.0</td>\n",
       "      <td>16</td>\n",
       "      <td>82</td>\n",
       "      <td>0</td>\n",
       "      <td>0</td>\n",
       "    </tr>\n",
       "    <tr>\n",
       "      <th>1</th>\n",
       "      <td>0.0</td>\n",
       "      <td>0.0</td>\n",
       "      <td>0.0</td>\n",
       "      <td>0.0</td>\n",
       "      <td>0.0</td>\n",
       "      <td>0.0</td>\n",
       "      <td>0.0</td>\n",
       "      <td>0.0</td>\n",
       "      <td>0.0</td>\n",
       "      <td>0.0</td>\n",
       "      <td>...</td>\n",
       "      <td>0.0</td>\n",
       "      <td>0.0</td>\n",
       "      <td>0.0</td>\n",
       "      <td>0.0</td>\n",
       "      <td>0.0</td>\n",
       "      <td>0.0</td>\n",
       "      <td>6</td>\n",
       "      <td>23</td>\n",
       "      <td>0</td>\n",
       "      <td>0</td>\n",
       "    </tr>\n",
       "    <tr>\n",
       "      <th>2</th>\n",
       "      <td>0.0</td>\n",
       "      <td>0.0</td>\n",
       "      <td>0.0</td>\n",
       "      <td>0.0</td>\n",
       "      <td>0.0</td>\n",
       "      <td>0.0</td>\n",
       "      <td>0.0</td>\n",
       "      <td>0.0</td>\n",
       "      <td>0.0</td>\n",
       "      <td>0.0</td>\n",
       "      <td>...</td>\n",
       "      <td>0.0</td>\n",
       "      <td>0.0</td>\n",
       "      <td>0.0</td>\n",
       "      <td>0.0</td>\n",
       "      <td>0.0</td>\n",
       "      <td>0.0</td>\n",
       "      <td>20</td>\n",
       "      <td>107</td>\n",
       "      <td>25</td>\n",
       "      <td>0</td>\n",
       "    </tr>\n",
       "    <tr>\n",
       "      <th>3</th>\n",
       "      <td>0.0</td>\n",
       "      <td>0.0</td>\n",
       "      <td>0.0</td>\n",
       "      <td>0.0</td>\n",
       "      <td>0.0</td>\n",
       "      <td>0.0</td>\n",
       "      <td>0.0</td>\n",
       "      <td>0.0</td>\n",
       "      <td>0.0</td>\n",
       "      <td>0.0</td>\n",
       "      <td>...</td>\n",
       "      <td>0.0</td>\n",
       "      <td>0.0</td>\n",
       "      <td>0.0</td>\n",
       "      <td>0.0</td>\n",
       "      <td>0.0</td>\n",
       "      <td>0.0</td>\n",
       "      <td>9</td>\n",
       "      <td>35</td>\n",
       "      <td>0</td>\n",
       "      <td>0</td>\n",
       "    </tr>\n",
       "    <tr>\n",
       "      <th>4</th>\n",
       "      <td>0.0</td>\n",
       "      <td>0.0</td>\n",
       "      <td>0.0</td>\n",
       "      <td>0.0</td>\n",
       "      <td>0.0</td>\n",
       "      <td>0.0</td>\n",
       "      <td>0.0</td>\n",
       "      <td>0.0</td>\n",
       "      <td>0.0</td>\n",
       "      <td>0.0</td>\n",
       "      <td>...</td>\n",
       "      <td>0.0</td>\n",
       "      <td>0.0</td>\n",
       "      <td>0.0</td>\n",
       "      <td>0.0</td>\n",
       "      <td>0.0</td>\n",
       "      <td>0.0</td>\n",
       "      <td>8</td>\n",
       "      <td>43</td>\n",
       "      <td>0</td>\n",
       "      <td>0</td>\n",
       "    </tr>\n",
       "  </tbody>\n",
       "</table>\n",
       "<p>5 rows × 118968 columns</p>\n",
       "</div>"
      ],
      "text/plain": [
       "    aa  aa exhaust  aa exhaust hang  aah  aah bless  aah bless hows  \\\n",
       "0  0.0         0.0              0.0  0.0        0.0             0.0   \n",
       "1  0.0         0.0              0.0  0.0        0.0             0.0   \n",
       "2  0.0         0.0              0.0  0.0        0.0             0.0   \n",
       "3  0.0         0.0              0.0  0.0        0.0             0.0   \n",
       "4  0.0         0.0              0.0  0.0        0.0             0.0   \n",
       "\n",
       "   aah bless hows arm  aah cuddle  aah cuddle would  aah cuddle would lush  \\\n",
       "0                 0.0         0.0               0.0                    0.0   \n",
       "1                 0.0         0.0               0.0                    0.0   \n",
       "2                 0.0         0.0               0.0                    0.0   \n",
       "3                 0.0         0.0               0.0                    0.0   \n",
       "4                 0.0         0.0               0.0                    0.0   \n",
       "\n",
       "   ...  zs subscription pw  zyada  zyada kisi  zyada kisi ko  \\\n",
       "0  ...                 0.0    0.0         0.0            0.0   \n",
       "1  ...                 0.0    0.0         0.0            0.0   \n",
       "2  ...                 0.0    0.0         0.0            0.0   \n",
       "3  ...                 0.0    0.0         0.0            0.0   \n",
       "4  ...                 0.0    0.0         0.0            0.0   \n",
       "\n",
       "   zyada kisi ko kuch  zyada kisi ko kuch nahi  num_words  num_letters  \\\n",
       "0                 0.0                      0.0         16           82   \n",
       "1                 0.0                      0.0          6           23   \n",
       "2                 0.0                      0.0         20          107   \n",
       "3                 0.0                      0.0          9           35   \n",
       "4                 0.0                      0.0          8           43   \n",
       "\n",
       "   num_digits  num_pound  \n",
       "0           0          0  \n",
       "1           0          0  \n",
       "2          25          0  \n",
       "3           0          0  \n",
       "4           0          0  \n",
       "\n",
       "[5 rows x 118968 columns]"
      ]
     },
     "execution_count": 17,
     "metadata": {},
     "output_type": "execute_result"
    }
   ],
   "source": [
    "from sklearn.feature_extraction.text import TfidfTransformer\n",
    "\n",
    "cleanData, _, _, _ = v_preprocess(smsData['text'])\n",
    "cv = CountVectorizer(min_df=0., max_df=1., analyzer = 'word', ngram_range = (1, 5))\n",
    "cv_matrix = cv.fit_transform(cleanData)\n",
    "\n",
    "# get all unique words in the corpus\n",
    "vocab = cv.get_feature_names()\n",
    "tfidf_transformed = TfidfTransformer().fit_transform(cv_matrix)\n",
    "tfidf_transformed = tfidf_transformed.toarray()\n",
    "\n",
    "features = pd.DataFrame(tfidf_transformed, columns=vocab)\n",
    "features['num_words'] = num_words\n",
    "features['num_letters'] = num_letters\n",
    "features['num_digits'] = smsData['num_digits']\n",
    "features['num_pound'] = smsData['num_pound']\n",
    "features.head()"
   ]
  },
  {
   "cell_type": "markdown",
   "metadata": {},
   "source": [
    "- Rank by `weight`\n",
    "- Take top `N` most frequently occurring words say `N = 40`"
   ]
  },
  {
   "cell_type": "code",
   "execution_count": 18,
   "metadata": {},
   "outputs": [
    {
     "name": "stdout",
     "output_type": "stream",
     "text": [
      "Wall time: 34.9 s\n"
     ]
    },
    {
     "data": {
      "text/html": [
       "<div>\n",
       "<style scoped>\n",
       "    .dataframe tbody tr th:only-of-type {\n",
       "        vertical-align: middle;\n",
       "    }\n",
       "\n",
       "    .dataframe tbody tr th {\n",
       "        vertical-align: top;\n",
       "    }\n",
       "\n",
       "    .dataframe thead th {\n",
       "        text-align: right;\n",
       "    }\n",
       "</style>\n",
       "<table border=\"1\" class=\"dataframe\">\n",
       "  <thead>\n",
       "    <tr style=\"text-align: right;\">\n",
       "      <th></th>\n",
       "      <th>weight</th>\n",
       "    </tr>\n",
       "  </thead>\n",
       "  <tbody>\n",
       "    <tr>\n",
       "      <th>num_letters</th>\n",
       "      <td>51.156676</td>\n",
       "    </tr>\n",
       "    <tr>\n",
       "      <th>num_words</th>\n",
       "      <td>8.935930</td>\n",
       "    </tr>\n",
       "    <tr>\n",
       "      <th>num_digits</th>\n",
       "      <td>3.649318</td>\n",
       "    </tr>\n",
       "    <tr>\n",
       "      <th>num_pound</th>\n",
       "      <td>0.250718</td>\n",
       "    </tr>\n",
       "    <tr>\n",
       "      <th>ok</th>\n",
       "      <td>0.010087</td>\n",
       "    </tr>\n",
       "  </tbody>\n",
       "</table>\n",
       "</div>"
      ],
      "text/plain": [
       "                weight\n",
       "num_letters  51.156676\n",
       "num_words     8.935930\n",
       "num_digits    3.649318\n",
       "num_pound     0.250718\n",
       "ok            0.010087"
      ]
     },
     "execution_count": 18,
     "metadata": {},
     "output_type": "execute_result"
    }
   ],
   "source": [
    "%%time\n",
    "frequentFeatures = pd.DataFrame({'weight': features.mean(axis = 0)}, index = features.columns)\n",
    "frequentFeatures = frequentFeatures.sort_values(by='weight', ascending=False)\n",
    "frequentFeatures.head()"
   ]
  },
  {
   "cell_type": "markdown",
   "metadata": {},
   "source": [
    "Test Tfidf against BOW model"
   ]
  },
  {
   "cell_type": "code",
   "execution_count": 19,
   "metadata": {},
   "outputs": [
    {
     "data": {
      "text/html": [
       "<div>\n",
       "<style scoped>\n",
       "    .dataframe tbody tr th:only-of-type {\n",
       "        vertical-align: middle;\n",
       "    }\n",
       "\n",
       "    .dataframe tbody tr th {\n",
       "        vertical-align: top;\n",
       "    }\n",
       "\n",
       "    .dataframe thead th {\n",
       "        text-align: right;\n",
       "    }\n",
       "</style>\n",
       "<table border=\"1\" class=\"dataframe\">\n",
       "  <thead>\n",
       "    <tr style=\"text-align: right;\">\n",
       "      <th></th>\n",
       "      <th>num_letters</th>\n",
       "      <th>num_words</th>\n",
       "      <th>num_digits</th>\n",
       "      <th>num_pound</th>\n",
       "      <th>ok</th>\n",
       "      <th>call</th>\n",
       "      <th>im</th>\n",
       "      <th>get</th>\n",
       "      <th>ill</th>\n",
       "      <th>ur</th>\n",
       "      <th>...</th>\n",
       "      <th>da</th>\n",
       "      <th>wat</th>\n",
       "      <th>text</th>\n",
       "      <th>dear</th>\n",
       "      <th>home</th>\n",
       "      <th>love</th>\n",
       "      <th>one</th>\n",
       "      <th>oh</th>\n",
       "      <th>need</th>\n",
       "      <th>think</th>\n",
       "    </tr>\n",
       "  </thead>\n",
       "  <tbody>\n",
       "    <tr>\n",
       "      <th>0</th>\n",
       "      <td>82</td>\n",
       "      <td>16</td>\n",
       "      <td>0</td>\n",
       "      <td>0</td>\n",
       "      <td>0.000000</td>\n",
       "      <td>0.0</td>\n",
       "      <td>0.0</td>\n",
       "      <td>0.0</td>\n",
       "      <td>0.0</td>\n",
       "      <td>0.0</td>\n",
       "      <td>...</td>\n",
       "      <td>0.0</td>\n",
       "      <td>0.076978</td>\n",
       "      <td>0.000000</td>\n",
       "      <td>0.0</td>\n",
       "      <td>0.0</td>\n",
       "      <td>0.0</td>\n",
       "      <td>0.0</td>\n",
       "      <td>0.0</td>\n",
       "      <td>0.0</td>\n",
       "      <td>0.00000</td>\n",
       "    </tr>\n",
       "    <tr>\n",
       "      <th>1</th>\n",
       "      <td>23</td>\n",
       "      <td>6</td>\n",
       "      <td>0</td>\n",
       "      <td>0</td>\n",
       "      <td>0.127041</td>\n",
       "      <td>0.0</td>\n",
       "      <td>0.0</td>\n",
       "      <td>0.0</td>\n",
       "      <td>0.0</td>\n",
       "      <td>0.0</td>\n",
       "      <td>...</td>\n",
       "      <td>0.0</td>\n",
       "      <td>0.000000</td>\n",
       "      <td>0.000000</td>\n",
       "      <td>0.0</td>\n",
       "      <td>0.0</td>\n",
       "      <td>0.0</td>\n",
       "      <td>0.0</td>\n",
       "      <td>0.0</td>\n",
       "      <td>0.0</td>\n",
       "      <td>0.00000</td>\n",
       "    </tr>\n",
       "    <tr>\n",
       "      <th>2</th>\n",
       "      <td>107</td>\n",
       "      <td>20</td>\n",
       "      <td>25</td>\n",
       "      <td>0</td>\n",
       "      <td>0.000000</td>\n",
       "      <td>0.0</td>\n",
       "      <td>0.0</td>\n",
       "      <td>0.0</td>\n",
       "      <td>0.0</td>\n",
       "      <td>0.0</td>\n",
       "      <td>...</td>\n",
       "      <td>0.0</td>\n",
       "      <td>0.000000</td>\n",
       "      <td>0.056742</td>\n",
       "      <td>0.0</td>\n",
       "      <td>0.0</td>\n",
       "      <td>0.0</td>\n",
       "      <td>0.0</td>\n",
       "      <td>0.0</td>\n",
       "      <td>0.0</td>\n",
       "      <td>0.00000</td>\n",
       "    </tr>\n",
       "    <tr>\n",
       "      <th>3</th>\n",
       "      <td>35</td>\n",
       "      <td>9</td>\n",
       "      <td>0</td>\n",
       "      <td>0</td>\n",
       "      <td>0.000000</td>\n",
       "      <td>0.0</td>\n",
       "      <td>0.0</td>\n",
       "      <td>0.0</td>\n",
       "      <td>0.0</td>\n",
       "      <td>0.0</td>\n",
       "      <td>...</td>\n",
       "      <td>0.0</td>\n",
       "      <td>0.000000</td>\n",
       "      <td>0.000000</td>\n",
       "      <td>0.0</td>\n",
       "      <td>0.0</td>\n",
       "      <td>0.0</td>\n",
       "      <td>0.0</td>\n",
       "      <td>0.0</td>\n",
       "      <td>0.0</td>\n",
       "      <td>0.00000</td>\n",
       "    </tr>\n",
       "    <tr>\n",
       "      <th>4</th>\n",
       "      <td>43</td>\n",
       "      <td>8</td>\n",
       "      <td>0</td>\n",
       "      <td>0</td>\n",
       "      <td>0.000000</td>\n",
       "      <td>0.0</td>\n",
       "      <td>0.0</td>\n",
       "      <td>0.0</td>\n",
       "      <td>0.0</td>\n",
       "      <td>0.0</td>\n",
       "      <td>...</td>\n",
       "      <td>0.0</td>\n",
       "      <td>0.000000</td>\n",
       "      <td>0.000000</td>\n",
       "      <td>0.0</td>\n",
       "      <td>0.0</td>\n",
       "      <td>0.0</td>\n",
       "      <td>0.0</td>\n",
       "      <td>0.0</td>\n",
       "      <td>0.0</td>\n",
       "      <td>0.10439</td>\n",
       "    </tr>\n",
       "  </tbody>\n",
       "</table>\n",
       "<p>5 rows × 40 columns</p>\n",
       "</div>"
      ],
      "text/plain": [
       "   num_letters  num_words  num_digits  num_pound        ok  call   im  get  \\\n",
       "0           82         16           0          0  0.000000   0.0  0.0  0.0   \n",
       "1           23          6           0          0  0.127041   0.0  0.0  0.0   \n",
       "2          107         20          25          0  0.000000   0.0  0.0  0.0   \n",
       "3           35          9           0          0  0.000000   0.0  0.0  0.0   \n",
       "4           43          8           0          0  0.000000   0.0  0.0  0.0   \n",
       "\n",
       "   ill   ur  ...   da       wat      text  dear  home  love  one   oh  need  \\\n",
       "0  0.0  0.0  ...  0.0  0.076978  0.000000   0.0   0.0   0.0  0.0  0.0   0.0   \n",
       "1  0.0  0.0  ...  0.0  0.000000  0.000000   0.0   0.0   0.0  0.0  0.0   0.0   \n",
       "2  0.0  0.0  ...  0.0  0.000000  0.056742   0.0   0.0   0.0  0.0  0.0   0.0   \n",
       "3  0.0  0.0  ...  0.0  0.000000  0.000000   0.0   0.0   0.0  0.0  0.0   0.0   \n",
       "4  0.0  0.0  ...  0.0  0.000000  0.000000   0.0   0.0   0.0  0.0  0.0   0.0   \n",
       "\n",
       "     think  \n",
       "0  0.00000  \n",
       "1  0.00000  \n",
       "2  0.00000  \n",
       "3  0.00000  \n",
       "4  0.10439  \n",
       "\n",
       "[5 rows x 40 columns]"
      ]
     },
     "execution_count": 19,
     "metadata": {},
     "output_type": "execute_result"
    }
   ],
   "source": [
    "# take top 40 most frequent words\n",
    "features = features[frequentFeatures.index[:40]]\n",
    "features.head()"
   ]
  },
  {
   "cell_type": "code",
   "execution_count": 20,
   "metadata": {},
   "outputs": [],
   "source": [
    "# convert to sparse matrix for efficient model trainig\n",
    "features = csr_matrix(features.values)"
   ]
  },
  {
   "cell_type": "code",
   "execution_count": 21,
   "metadata": {},
   "outputs": [
    {
     "data": {
      "image/png": "[encoded data removed]",
      "text/plain": [
       "<Figure size 432x288 with 2 Axes>"
      ]
     },
     "metadata": {},
     "output_type": "display_data"
    },
    {
     "data": {
      "image/png": "[encoded data removed]",
      "text/plain": [
       "<Figure size 360x360 with 1 Axes>"
      ]
     },
     "metadata": {},
     "output_type": "display_data"
    },
    {
     "data": {
      "text/html": [
       "<div>\n",
       "<style scoped>\n",
       "    .dataframe tbody tr th:only-of-type {\n",
       "        vertical-align: middle;\n",
       "    }\n",
       "\n",
       "    .dataframe tbody tr th {\n",
       "        vertical-align: top;\n",
       "    }\n",
       "\n",
       "    .dataframe thead th {\n",
       "        text-align: right;\n",
       "    }\n",
       "</style>\n",
       "<table border=\"1\" class=\"dataframe\">\n",
       "  <thead>\n",
       "    <tr style=\"text-align: right;\">\n",
       "      <th></th>\n",
       "      <th>Titles</th>\n",
       "      <th>Classif Acc</th>\n",
       "      <th>TN, FP, FN, TP</th>\n",
       "      <th>PPV</th>\n",
       "      <th>NPV</th>\n",
       "      <th>AUROC</th>\n",
       "    </tr>\n",
       "  </thead>\n",
       "  <tbody>\n",
       "    <tr>\n",
       "      <th>0</th>\n",
       "      <td>DecTree_BOW</td>\n",
       "      <td>0.978</td>\n",
       "      <td>[1193, 15, 15, 170]</td>\n",
       "      <td>0.919</td>\n",
       "      <td>0.988</td>\n",
       "      <td>0.953</td>\n",
       "    </tr>\n",
       "    <tr>\n",
       "      <th>1</th>\n",
       "      <td>RForest_BOW</td>\n",
       "      <td>0.986</td>\n",
       "      <td>[1203, 5, 15, 170]</td>\n",
       "      <td>0.971</td>\n",
       "      <td>0.988</td>\n",
       "      <td>0.983</td>\n",
       "    </tr>\n",
       "    <tr>\n",
       "      <th>2</th>\n",
       "      <td>RForest_Tfidf</td>\n",
       "      <td>0.982</td>\n",
       "      <td>[1201, 7, 18, 167]</td>\n",
       "      <td>0.960</td>\n",
       "      <td>0.985</td>\n",
       "      <td>0.982</td>\n",
       "    </tr>\n",
       "  </tbody>\n",
       "</table>\n",
       "</div>"
      ],
      "text/plain": [
       "          Titles  Classif Acc       TN, FP, FN, TP    PPV    NPV  AUROC\n",
       "0    DecTree_BOW        0.978  [1193, 15, 15, 170]  0.919  0.988  0.953\n",
       "1    RForest_BOW        0.986   [1203, 5, 15, 170]  0.971  0.988  0.983\n",
       "2  RForest_Tfidf        0.982   [1201, 7, 18, 167]  0.960  0.985  0.982"
      ]
     },
     "execution_count": 21,
     "metadata": {},
     "output_type": "execute_result"
    }
   ],
   "source": [
    "results = run_model(features, response,\n",
    "                    RandomForestClassifier(random_state = 1),\n",
    "                    results, 'RForest_Tfidf')\n",
    "results['summary']"
   ]
  },
  {
   "cell_type": "markdown",
   "metadata": {},
   "source": [
    "`BOW` outperforms `Tfidf` in this case. Perhaps `Tfidf` will work better with larger datasets.\n",
    "\n",
    "`BOW` will be used from now"
   ]
  },
  {
   "cell_type": "markdown",
   "metadata": {},
   "source": [
    "<a id='classimbalance'></a>\n",
    "### Class Imbalance"
   ]
  },
  {
   "cell_type": "markdown",
   "metadata": {},
   "source": [
    "As seen way above, there is class imbalance. To rectify this, `class_weight` can be added to allow the model to place more emphasis on the under-represented class, `spam`.\n",
    "\n",
    "- `balanced`: Places emphasis based on class imbalance in `response`\n",
    "- 'balanced_subsample`: Does the same but for each subsample in each tree\n",
    "\n",
    "According to [documentation](https://scikit-learn.org/stable/modules/generated/sklearn.ensemble.RandomForestClassifier.html) for `class_weight`,\n",
    "\n",
    "- `balanced`: uses the values of y to automatically adjust weights inversely proportional to class frequencies in the input data as `n_samples / (n_classes * np.bincount(y))`\n",
    "\n",
    "- `balanced_subsample`: is the same as “balanced” except that weights are computed based on the bootstrap sample for every tree grown.\n",
    "\n",
    "<a href='#top'>Back to top</a>"
   ]
  },
  {
   "cell_type": "markdown",
   "metadata": {},
   "source": [
    "Same code as before to get `BOW`"
   ]
  },
  {
   "cell_type": "code",
   "execution_count": 22,
   "metadata": {},
   "outputs": [
    {
     "data": {
      "text/plain": [
       "(5572, 40)"
      ]
     },
     "execution_count": 22,
     "metadata": {},
     "output_type": "execute_result"
    }
   ],
   "source": [
    "cleanData, _, _, _ = v_preprocess(smsData['text'])\n",
    "# apply CountVectorizer, counting each word and phrase up to 5 words long\n",
    "cv = CountVectorizer(min_df=0., max_df=1., analyzer = 'word', ngram_range = (1, 5))\n",
    "cv_matrix = cv.fit_transform(cleanData)\n",
    "cv_matrix = cv_matrix.toarray()\n",
    "\n",
    "# get all unique words in the corpus\n",
    "vocab = cv.get_feature_names()\n",
    "\n",
    "# peak at current features\n",
    "features = pd.DataFrame(cv_matrix, columns=vocab)\n",
    "features['num_words'] = num_words\n",
    "features['num_letters'] = num_letters\n",
    "features['num_digits'] = smsData['num_digits']\n",
    "features['num_pound'] = smsData['num_pound']\n",
    "\n",
    "frequentFeatures = pd.DataFrame({'mean_frequency': features.mean(axis = 0)}, index = features.columns)\n",
    "frequentFeatures = frequentFeatures.sort_values(by='mean_frequency', ascending=False)\n",
    "\n",
    "# take top 40 most frequent words\n",
    "features = features[frequentFeatures.index[:40]]\n",
    "\n",
    "# convert to sparse matrix for efficient model trainig\n",
    "features = csr_matrix(features.values)\n",
    "features.shape"
   ]
  },
  {
   "cell_type": "code",
   "execution_count": 23,
   "metadata": {},
   "outputs": [
    {
     "data": {
      "image/png": "[encoded data removed]",
      "text/plain": [
       "<Figure size 432x288 with 2 Axes>"
      ]
     },
     "metadata": {},
     "output_type": "display_data"
    },
    {
     "data": {
      "image/png": "[encoded data removed]",
      "text/plain": [
       "<Figure size 360x360 with 1 Axes>"
      ]
     },
     "metadata": {},
     "output_type": "display_data"
    },
    {
     "data": {
      "image/png": "[encoded data removed]",
      "text/plain": [
       "<Figure size 432x288 with 2 Axes>"
      ]
     },
     "metadata": {},
     "output_type": "display_data"
    },
    {
     "data": {
      "image/png": "[encoded data removed]",
      "text/plain": [
       "<Figure size 360x360 with 1 Axes>"
      ]
     },
     "metadata": {},
     "output_type": "display_data"
    },
    {
     "data": {
      "text/html": [
       "<div>\n",
       "<style scoped>\n",
       "    .dataframe tbody tr th:only-of-type {\n",
       "        vertical-align: middle;\n",
       "    }\n",
       "\n",
       "    .dataframe tbody tr th {\n",
       "        vertical-align: top;\n",
       "    }\n",
       "\n",
       "    .dataframe thead th {\n",
       "        text-align: right;\n",
       "    }\n",
       "</style>\n",
       "<table border=\"1\" class=\"dataframe\">\n",
       "  <thead>\n",
       "    <tr style=\"text-align: right;\">\n",
       "      <th></th>\n",
       "      <th>Titles</th>\n",
       "      <th>Classif Acc</th>\n",
       "      <th>TN, FP, FN, TP</th>\n",
       "      <th>PPV</th>\n",
       "      <th>NPV</th>\n",
       "      <th>AUROC</th>\n",
       "    </tr>\n",
       "  </thead>\n",
       "  <tbody>\n",
       "    <tr>\n",
       "      <th>0</th>\n",
       "      <td>DecTree_BOW</td>\n",
       "      <td>0.978</td>\n",
       "      <td>[1193, 15, 15, 170]</td>\n",
       "      <td>0.919</td>\n",
       "      <td>0.988</td>\n",
       "      <td>0.953</td>\n",
       "    </tr>\n",
       "    <tr>\n",
       "      <th>1</th>\n",
       "      <td>RForest_BOW</td>\n",
       "      <td>0.986</td>\n",
       "      <td>[1203, 5, 15, 170]</td>\n",
       "      <td>0.971</td>\n",
       "      <td>0.988</td>\n",
       "      <td>0.983</td>\n",
       "    </tr>\n",
       "    <tr>\n",
       "      <th>2</th>\n",
       "      <td>RForest_Tfidf</td>\n",
       "      <td>0.982</td>\n",
       "      <td>[1201, 7, 18, 167]</td>\n",
       "      <td>0.960</td>\n",
       "      <td>0.985</td>\n",
       "      <td>0.982</td>\n",
       "    </tr>\n",
       "    <tr>\n",
       "      <th>3</th>\n",
       "      <td>BOW_balanced</td>\n",
       "      <td>0.986</td>\n",
       "      <td>[1203, 5, 14, 171]</td>\n",
       "      <td>0.972</td>\n",
       "      <td>0.988</td>\n",
       "      <td>0.986</td>\n",
       "    </tr>\n",
       "    <tr>\n",
       "      <th>4</th>\n",
       "      <td>BOW_balanced_subsample</td>\n",
       "      <td>0.984</td>\n",
       "      <td>[1201, 7, 15, 170]</td>\n",
       "      <td>0.960</td>\n",
       "      <td>0.988</td>\n",
       "      <td>0.988</td>\n",
       "    </tr>\n",
       "  </tbody>\n",
       "</table>\n",
       "</div>"
      ],
      "text/plain": [
       "                   Titles  Classif Acc       TN, FP, FN, TP    PPV    NPV  \\\n",
       "0             DecTree_BOW        0.978  [1193, 15, 15, 170]  0.919  0.988   \n",
       "1             RForest_BOW        0.986   [1203, 5, 15, 170]  0.971  0.988   \n",
       "2           RForest_Tfidf        0.982   [1201, 7, 18, 167]  0.960  0.985   \n",
       "3            BOW_balanced        0.986   [1203, 5, 14, 171]  0.972  0.988   \n",
       "4  BOW_balanced_subsample        0.984   [1201, 7, 15, 170]  0.960  0.988   \n",
       "\n",
       "   AUROC  \n",
       "0  0.953  \n",
       "1  0.983  \n",
       "2  0.982  \n",
       "3  0.986  \n",
       "4  0.988  "
      ]
     },
     "execution_count": 23,
     "metadata": {},
     "output_type": "execute_result"
    }
   ],
   "source": [
    "results = run_model(features, response,\n",
    "                    RandomForestClassifier(random_state = 1, class_weight = 'balanced'), \n",
    "                    results, 'BOW_balanced')\n",
    "results = run_model(features, response,\n",
    "                    RandomForestClassifier(random_state = 1, class_weight = 'balanced_subsample'), \n",
    "                    results, 'BOW_balanced_subsample')\n",
    "results['summary']"
   ]
  },
  {
   "cell_type": "markdown",
   "metadata": {},
   "source": [
    "`balanced` produces better `PPV` which is what we want"
   ]
  },
  {
   "cell_type": "markdown",
   "metadata": {},
   "source": [
    "<a id='smote'></a>\n",
    "### SMOTE"
   ]
  },
  {
   "cell_type": "markdown",
   "metadata": {},
   "source": [
    "Instead of more emphasis on under-represented class, `SMOTE` allows for:\n",
    "\n",
    "- Random generation of under-represented class until ratio `1:1`\n",
    "- New samples will be similar but not neccessarily the same as existing samples\n",
    "\n",
    "[More](https://imbalanced-learn.readthedocs.io/en/stable/generated/imblearn.over_sampling.SMOTE.html)\n",
    "on Synthetic Minority Over-sampling Technique (SMOTE)\n",
    "\n",
    "<a href='#top'>Back to top</a>"
   ]
  },
  {
   "cell_type": "code",
   "execution_count": 24,
   "metadata": {},
   "outputs": [
    {
     "name": "stderr",
     "output_type": "stream",
     "text": [
      "Using TensorFlow backend.\n",
      "WARNING:root:Limited tf.compat.v2.summary API due to missing TensorBoard installation.\n",
      "WARNING:root:Limited tf.compat.v2.summary API due to missing TensorBoard installation.\n",
      "WARNING:root:Limited tf.summary API due to missing TensorBoard installation.\n"
     ]
    }
   ],
   "source": [
    "from imblearn.over_sampling import SMOTE\n",
    "sm = SMOTE(random_state=1)\n",
    "X_smote, y_smote = sm.fit_resample(features, response)"
   ]
  },
  {
   "cell_type": "code",
   "execution_count": 25,
   "metadata": {},
   "outputs": [
    {
     "data": {
      "image/png": "[encoded data removed]",
      "text/plain": [
       "<Figure size 432x288 with 2 Axes>"
      ]
     },
     "metadata": {},
     "output_type": "display_data"
    },
    {
     "data": {
      "image/png": "[encoded data removed]",
      "text/plain": [
       "<Figure size 360x360 with 1 Axes>"
      ]
     },
     "metadata": {},
     "output_type": "display_data"
    },
    {
     "data": {
      "text/html": [
       "<div>\n",
       "<style scoped>\n",
       "    .dataframe tbody tr th:only-of-type {\n",
       "        vertical-align: middle;\n",
       "    }\n",
       "\n",
       "    .dataframe tbody tr th {\n",
       "        vertical-align: top;\n",
       "    }\n",
       "\n",
       "    .dataframe thead th {\n",
       "        text-align: right;\n",
       "    }\n",
       "</style>\n",
       "<table border=\"1\" class=\"dataframe\">\n",
       "  <thead>\n",
       "    <tr style=\"text-align: right;\">\n",
       "      <th></th>\n",
       "      <th>Titles</th>\n",
       "      <th>Classif Acc</th>\n",
       "      <th>TN, FP, FN, TP</th>\n",
       "      <th>PPV</th>\n",
       "      <th>NPV</th>\n",
       "      <th>AUROC</th>\n",
       "    </tr>\n",
       "  </thead>\n",
       "  <tbody>\n",
       "    <tr>\n",
       "      <th>0</th>\n",
       "      <td>DecTree_BOW</td>\n",
       "      <td>0.978</td>\n",
       "      <td>[1193, 15, 15, 170]</td>\n",
       "      <td>0.919</td>\n",
       "      <td>0.988</td>\n",
       "      <td>0.953</td>\n",
       "    </tr>\n",
       "    <tr>\n",
       "      <th>1</th>\n",
       "      <td>RForest_BOW</td>\n",
       "      <td>0.986</td>\n",
       "      <td>[1203, 5, 15, 170]</td>\n",
       "      <td>0.971</td>\n",
       "      <td>0.988</td>\n",
       "      <td>0.983</td>\n",
       "    </tr>\n",
       "    <tr>\n",
       "      <th>2</th>\n",
       "      <td>RForest_Tfidf</td>\n",
       "      <td>0.982</td>\n",
       "      <td>[1201, 7, 18, 167]</td>\n",
       "      <td>0.960</td>\n",
       "      <td>0.985</td>\n",
       "      <td>0.982</td>\n",
       "    </tr>\n",
       "    <tr>\n",
       "      <th>3</th>\n",
       "      <td>BOW_balanced</td>\n",
       "      <td>0.986</td>\n",
       "      <td>[1203, 5, 14, 171]</td>\n",
       "      <td>0.972</td>\n",
       "      <td>0.988</td>\n",
       "      <td>0.986</td>\n",
       "    </tr>\n",
       "    <tr>\n",
       "      <th>4</th>\n",
       "      <td>BOW_balanced_subsample</td>\n",
       "      <td>0.984</td>\n",
       "      <td>[1201, 7, 15, 170]</td>\n",
       "      <td>0.960</td>\n",
       "      <td>0.988</td>\n",
       "      <td>0.988</td>\n",
       "    </tr>\n",
       "    <tr>\n",
       "      <th>5</th>\n",
       "      <td>RForest_BOW_SMOTE</td>\n",
       "      <td>0.973</td>\n",
       "      <td>[1176, 30, 35, 1172]</td>\n",
       "      <td>0.975</td>\n",
       "      <td>0.971</td>\n",
       "      <td>0.995</td>\n",
       "    </tr>\n",
       "  </tbody>\n",
       "</table>\n",
       "</div>"
      ],
      "text/plain": [
       "                   Titles  Classif Acc        TN, FP, FN, TP    PPV    NPV  \\\n",
       "0             DecTree_BOW        0.978   [1193, 15, 15, 170]  0.919  0.988   \n",
       "1             RForest_BOW        0.986    [1203, 5, 15, 170]  0.971  0.988   \n",
       "2           RForest_Tfidf        0.982    [1201, 7, 18, 167]  0.960  0.985   \n",
       "3            BOW_balanced        0.986    [1203, 5, 14, 171]  0.972  0.988   \n",
       "4  BOW_balanced_subsample        0.984    [1201, 7, 15, 170]  0.960  0.988   \n",
       "5       RForest_BOW_SMOTE        0.973  [1176, 30, 35, 1172]  0.975  0.971   \n",
       "\n",
       "   AUROC  \n",
       "0  0.953  \n",
       "1  0.983  \n",
       "2  0.982  \n",
       "3  0.986  \n",
       "4  0.988  \n",
       "5  0.995  "
      ]
     },
     "execution_count": 25,
     "metadata": {},
     "output_type": "execute_result"
    }
   ],
   "source": [
    "results = run_model(X_smote, y_smote,\n",
    "                    RandomForestClassifier(random_state = 1),\n",
    "                    results, 'RForest_BOW_SMOTE')\n",
    "results['summary']"
   ]
  },
  {
   "cell_type": "markdown",
   "metadata": {},
   "source": [
    "`SMOTE` outperforms `class_weight` and will be used from now on"
   ]
  },
  {
   "cell_type": "markdown",
   "metadata": {},
   "source": [
    "<a id='optimization'></a>\n",
    "### Optimization"
   ]
  },
  {
   "cell_type": "markdown",
   "metadata": {},
   "source": [
    "- Train best model so far with different hyperparameters to find best set\n",
    "- Perform cross validation (cv) to see robustness of model\n",
    "\n",
    "`cv = 5`: Split data into 5 equal parts, train on 4, test on 1. Repeat 4 more times so model is validated on each of the 5 equal parts in 5 separate models\n",
    "\n",
    "<a href='#top'>Back to top</a>"
   ]
  },
  {
   "cell_type": "code",
   "execution_count": 26,
   "metadata": {},
   "outputs": [
    {
     "data": {
      "text/plain": [
       "1    4825\n",
       "0    4825\n",
       "Name: label, dtype: int64"
      ]
     },
     "execution_count": 26,
     "metadata": {},
     "output_type": "execute_result"
    }
   ],
   "source": [
    "# GridSearchCV requires response to be numerical\n",
    "y_smote = y_smote.apply(lambda x: 1 if x == 'spam' else 0)\n",
    "y_smote.value_counts()"
   ]
  },
  {
   "cell_type": "code",
   "execution_count": 27,
   "metadata": {
    "scrolled": true
   },
   "outputs": [
    {
     "name": "stdout",
     "output_type": "stream",
     "text": [
      "Wall time: 34.3 s\n"
     ]
    },
    {
     "data": {
      "text/plain": [
       "0.9795900490001154"
      ]
     },
     "execution_count": 27,
     "metadata": {},
     "output_type": "execute_result"
    }
   ],
   "source": [
    "%%time\n",
    "from sklearn.model_selection import RandomizedSearchCV\n",
    "# try models with these parameters and choosing best\n",
    "parameters = {'min_samples_leaf': range(1, 21, 5),\n",
    "              'min_samples_split': range(2, 43, 10)}\n",
    "\n",
    "model = RandomForestClassifier(random_state=1)\n",
    "clf = RandomizedSearchCV(model, parameters, scoring='precision', cv = 5, n_iter = 10)\n",
    "clf.fit(X_smote, y_smote)\n",
    "clf.best_score_"
   ]
  },
  {
   "cell_type": "code",
   "execution_count": 28,
   "metadata": {},
   "outputs": [
    {
     "data": {
      "text/plain": [
       "RandomForestClassifier(bootstrap=True, ccp_alpha=0.0, class_weight=None,\n",
       "                       criterion='gini', max_depth=None, max_features='auto',\n",
       "                       max_leaf_nodes=None, max_samples=None,\n",
       "                       min_impurity_decrease=0.0, min_impurity_split=None,\n",
       "                       min_samples_leaf=1, min_samples_split=12,\n",
       "                       min_weight_fraction_leaf=0.0, n_estimators=100,\n",
       "                       n_jobs=None, oob_score=False, random_state=1, verbose=0,\n",
       "                       warm_start=False)"
      ]
     },
     "execution_count": 28,
     "metadata": {},
     "output_type": "execute_result"
    }
   ],
   "source": [
    "clf.best_estimator_"
   ]
  },
  {
   "cell_type": "code",
   "execution_count": 29,
   "metadata": {},
   "outputs": [
    {
     "data": {
      "text/plain": [
       "good    4825\n",
       "spam    4825\n",
       "Name: label, dtype: int64"
      ]
     },
     "execution_count": 29,
     "metadata": {},
     "output_type": "execute_result"
    }
   ],
   "source": [
    "# change response back to words for analysis\n",
    "y_smote = y_smote.apply(lambda x: 'spam' if x == 1 else 'good')\n",
    "y_smote.value_counts()"
   ]
  },
  {
   "cell_type": "code",
   "execution_count": 30,
   "metadata": {},
   "outputs": [
    {
     "data": {
      "image/png": "[encoded data removed]",
      "text/plain": [
       "<Figure size 432x288 with 2 Axes>"
      ]
     },
     "metadata": {},
     "output_type": "display_data"
    },
    {
     "data": {
      "image/png": "[encoded data removed]",
      "text/plain": [
       "<Figure size 360x360 with 1 Axes>"
      ]
     },
     "metadata": {},
     "output_type": "display_data"
    },
    {
     "data": {
      "text/html": [
       "<div>\n",
       "<style scoped>\n",
       "    .dataframe tbody tr th:only-of-type {\n",
       "        vertical-align: middle;\n",
       "    }\n",
       "\n",
       "    .dataframe tbody tr th {\n",
       "        vertical-align: top;\n",
       "    }\n",
       "\n",
       "    .dataframe thead th {\n",
       "        text-align: right;\n",
       "    }\n",
       "</style>\n",
       "<table border=\"1\" class=\"dataframe\">\n",
       "  <thead>\n",
       "    <tr style=\"text-align: right;\">\n",
       "      <th></th>\n",
       "      <th>Titles</th>\n",
       "      <th>Classif Acc</th>\n",
       "      <th>TN, FP, FN, TP</th>\n",
       "      <th>PPV</th>\n",
       "      <th>NPV</th>\n",
       "      <th>AUROC</th>\n",
       "    </tr>\n",
       "  </thead>\n",
       "  <tbody>\n",
       "    <tr>\n",
       "      <th>0</th>\n",
       "      <td>DecTree_BOW</td>\n",
       "      <td>0.978</td>\n",
       "      <td>[1193, 15, 15, 170]</td>\n",
       "      <td>0.919</td>\n",
       "      <td>0.988</td>\n",
       "      <td>0.953</td>\n",
       "    </tr>\n",
       "    <tr>\n",
       "      <th>1</th>\n",
       "      <td>RForest_BOW</td>\n",
       "      <td>0.986</td>\n",
       "      <td>[1203, 5, 15, 170]</td>\n",
       "      <td>0.971</td>\n",
       "      <td>0.988</td>\n",
       "      <td>0.983</td>\n",
       "    </tr>\n",
       "    <tr>\n",
       "      <th>2</th>\n",
       "      <td>RForest_Tfidf</td>\n",
       "      <td>0.982</td>\n",
       "      <td>[1201, 7, 18, 167]</td>\n",
       "      <td>0.960</td>\n",
       "      <td>0.985</td>\n",
       "      <td>0.982</td>\n",
       "    </tr>\n",
       "    <tr>\n",
       "      <th>3</th>\n",
       "      <td>BOW_balanced</td>\n",
       "      <td>0.986</td>\n",
       "      <td>[1203, 5, 14, 171]</td>\n",
       "      <td>0.972</td>\n",
       "      <td>0.988</td>\n",
       "      <td>0.986</td>\n",
       "    </tr>\n",
       "    <tr>\n",
       "      <th>4</th>\n",
       "      <td>BOW_balanced_subsample</td>\n",
       "      <td>0.984</td>\n",
       "      <td>[1201, 7, 15, 170]</td>\n",
       "      <td>0.960</td>\n",
       "      <td>0.988</td>\n",
       "      <td>0.988</td>\n",
       "    </tr>\n",
       "    <tr>\n",
       "      <th>5</th>\n",
       "      <td>RForest_BOW_SMOTE</td>\n",
       "      <td>0.973</td>\n",
       "      <td>[1176, 30, 35, 1172]</td>\n",
       "      <td>0.975</td>\n",
       "      <td>0.971</td>\n",
       "      <td>0.995</td>\n",
       "    </tr>\n",
       "    <tr>\n",
       "      <th>6</th>\n",
       "      <td>Optimized_RForest</td>\n",
       "      <td>0.974</td>\n",
       "      <td>[1186, 20, 42, 1165]</td>\n",
       "      <td>0.983</td>\n",
       "      <td>0.966</td>\n",
       "      <td>0.996</td>\n",
       "    </tr>\n",
       "  </tbody>\n",
       "</table>\n",
       "</div>"
      ],
      "text/plain": [
       "                   Titles  Classif Acc        TN, FP, FN, TP    PPV    NPV  \\\n",
       "0             DecTree_BOW        0.978   [1193, 15, 15, 170]  0.919  0.988   \n",
       "1             RForest_BOW        0.986    [1203, 5, 15, 170]  0.971  0.988   \n",
       "2           RForest_Tfidf        0.982    [1201, 7, 18, 167]  0.960  0.985   \n",
       "3            BOW_balanced        0.986    [1203, 5, 14, 171]  0.972  0.988   \n",
       "4  BOW_balanced_subsample        0.984    [1201, 7, 15, 170]  0.960  0.988   \n",
       "5       RForest_BOW_SMOTE        0.973  [1176, 30, 35, 1172]  0.975  0.971   \n",
       "6       Optimized_RForest        0.974  [1186, 20, 42, 1165]  0.983  0.966   \n",
       "\n",
       "   AUROC  \n",
       "0  0.953  \n",
       "1  0.983  \n",
       "2  0.982  \n",
       "3  0.986  \n",
       "4  0.988  \n",
       "5  0.995  \n",
       "6  0.996  "
      ]
     },
     "execution_count": 30,
     "metadata": {},
     "output_type": "execute_result"
    }
   ],
   "source": [
    "# looking at the optimized model\n",
    "results = run_model(X_smote, y_smote, clf.best_estimator_,\n",
    "                    results, 'Optimized_RForest')\n",
    "results['summary']"
   ]
  },
  {
   "cell_type": "markdown",
   "metadata": {},
   "source": [
    "`Optimized_RForest` gives best `PPV` and decent `NPV`. This means `1.7%` of `good` messages will be classified as spam and `1.34%` of `spam` will be classified as `good`."
   ]
  },
  {
   "cell_type": "markdown",
   "metadata": {},
   "source": [
    "<a id='references'></a>\n",
    "### References"
   ]
  },
  {
   "cell_type": "markdown",
   "metadata": {},
   "source": [
    "- https://www.kaggle.com/dejavu23/sms-spam-or-ham-beginner\n",
    "- https://towardsdatascience.com/understanding-feature-engineering-part-3-traditional-methods-for-text-data-f6f7d70acd41\n",
    "- https://en.wikipedia.org/wiki/Precision_and_recall\n",
    "- https://towardsdatascience.com/understanding-auc-roc-curve-68b2303cc9c5\n",
    "- https://iyzico.engineering/how-to-calculate-tf-idf-term-frequency-inverse-document-frequency-from-the-beatles-biography-in-c4c3cd968296\n",
    "- https://www.jamesmaino.com/post/simple-intuitive-explanation-of-roc-and-auc-curves"
   ]
  },
  {
   "cell_type": "markdown",
   "metadata": {},
   "source": [
    "<a href='#top'>Back to top</a>"
   ]
  },
  {
   "cell_type": "code",
   "execution_count": null,
   "metadata": {},
   "outputs": [],
   "source": []
  }
 ],
 "metadata": {
  "kernelspec": {
   "display_name": "Default",
   "language": "python",
   "name": "default"
  },
  "language_info": {
   "codemirror_mode": {
    "name": "ipython",
    "version": 3
   },
   "file_extension": ".py",
   "mimetype": "text/x-python",
   "name": "python",
   "nbconvert_exporter": "python",
   "pygments_lexer": "ipython3",
   "version": "3.6.8"
  }
 },
 "nbformat": 4,
 "nbformat_minor": 2
}
